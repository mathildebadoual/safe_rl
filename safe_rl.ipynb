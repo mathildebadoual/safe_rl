{
  "nbformat": 4,
  "nbformat_minor": 0,
  "metadata": {
    "colab": {
      "name": "safe_rl.ipynb",
      "version": "0.3.2",
      "provenance": [],
      "include_colab_link": true
    },
    "kernelspec": {
      "name": "python3",
      "display_name": "Python 3"
    },
    "accelerator": "GPU"
  },
  "cells": [
    {
      "cell_type": "markdown",
      "metadata": {
        "id": "view-in-github",
        "colab_type": "text"
      },
      "source": [
        "<a href=\"https://colab.research.google.com/github/mathildebadoual/safe_rl/blob/master/safe_rl.ipynb\" target=\"_parent\"><img src=\"https://colab.research.google.com/assets/colab-badge.svg\" alt=\"Open In Colab\"/></a>"
      ]
    },
    {
      "metadata": {
        "id": "mi6g8x-rfLTi",
        "colab_type": "code",
        "outputId": "3ac11024-019e-4114-a577-b44d4ee63b85",
        "colab": {
          "base_uri": "https://localhost:8080/",
          "height": 34
        }
      },
      "cell_type": "code",
      "source": [
        "import tensorflow as tf\n",
        "device_name = tf.test.gpu_device_name()\n",
        "if device_name != '/device:GPU:0':\n",
        "  raise SystemError('GPU device not found')\n",
        "print('Found GPU at: {}'.format(device_name))"
      ],
      "execution_count": 0,
      "outputs": [
        {
          "output_type": "stream",
          "text": [
            "Found GPU at: /device:GPU:0\n"
          ],
          "name": "stdout"
        }
      ]
    },
    {
      "metadata": {
        "id": "TQkVYO7Cf30Q",
        "colab_type": "text"
      },
      "cell_type": "markdown",
      "source": [
        "### Install Baseline module:"
      ]
    },
    {
      "metadata": {
        "id": "YxogFMilf6hG",
        "colab_type": "code",
        "colab": {}
      },
      "cell_type": "code",
      "source": [
        "!apt install swig cmake libopenmpi-dev zlib1g-dev\n",
        "!pip install stable-baselines==2.3.0 box2d box2d-kengz"
      ],
      "execution_count": 0,
      "outputs": []
    },
    {
      "metadata": {
        "id": "kkqF-MV5iE2I",
        "colab_type": "code",
        "colab": {}
      },
      "cell_type": "code",
      "source": [
        "!pip install control\n",
        "!pip install slycot"
      ],
      "execution_count": 0,
      "outputs": []
    },
    {
      "metadata": {
        "id": "3-GXMtpChoXP",
        "colab_type": "text"
      },
      "cell_type": "markdown",
      "source": [
        "### Import gym and other dependencies"
      ]
    },
    {
      "metadata": {
        "id": "RDPmtEVqhnn5",
        "colab_type": "code",
        "colab": {}
      },
      "cell_type": "code",
      "source": [
        "import os\n",
        "\n",
        "import gym\n",
        "import numpy as np\n",
        "import matplotlib.pyplot as plt\n",
        "import control\n",
        "\n",
        "from stable_baselines.ddpg.policies import MlpPolicy\n",
        "from stable_baselines.common.vec_env.dummy_vec_env import DummyVecEnv\n",
        "from stable_baselines.bench import Monitor\n",
        "from stable_baselines.results_plotter import load_results, ts2xy\n",
        "from stable_baselines import DDPG\n",
        "from stable_baselines.ddpg.noise import AdaptiveParamNoiseSpec"
      ],
      "execution_count": 0,
      "outputs": []
    },
    {
      "metadata": {
        "id": "I_Oq4lyuiFya",
        "colab_type": "code",
        "colab": {}
      },
      "cell_type": "code",
      "source": [
        "# Create log dir\n",
        "log_dir = \"/tmp/gym/\"\n",
        "os.makedirs(log_dir, exist_ok=True)\n",
        "\n",
        "# Create and wrap the environment\n",
        "env = gym.make('CartPole-v0')\n",
        "# Logs will be saved in log_dir/monitor.csv\n",
        "env = Monitor(env, log_dir, allow_early_resets=True)\n",
        "env = DummyVecEnv([lambda: env])"
      ],
      "execution_count": 0,
      "outputs": []
    },
    {
      "metadata": {
        "id": "RcUL6byNKJqx",
        "colab_type": "code",
        "colab": {}
      },
      "cell_type": "code",
      "source": [
        "g = 10.\n",
        "m = 1.\n",
        "l = 1. \n",
        "\n",
        "A = np.array([[0, 1], [3*g/(2*g), 0]])\n",
        "B = np.array([[0], [3/(2*m*l)]])\n",
        "Q = np.eye(2)\n",
        "R = 0.1\n",
        "\n",
        "K, _, _ = control.lqr(A, B, Q, R)"
      ],
      "execution_count": 0,
      "outputs": []
    },
    {
      "metadata": {
        "id": "LsvWooOjlFmK",
        "colab_type": "code",
        "colab": {}
      },
      "cell_type": "code",
      "source": [
        "env = gym.make('Pendulum-v0')\n",
        "print('observation space:', env.observation_space)\n",
        "print('action space:', env.action_space)\n",
        "\n",
        "obs = env.reset()\n",
        "#env.render()\n",
        "print('initial observation:', obs)\n",
        "\n",
        "for i in range(100):\n",
        "  print('--- step %i ---' %i)\n",
        "  state = np.array([np.arcsin(obs[1]), obs[2]])\n",
        "  action = K * state\n",
        "  obs, r, done, info = env.step(action)\n",
        "  print('next observation:', obs)\n",
        "  print('reward:', r)\n",
        "  print('done:', done)\n",
        "  print('info:', info)"
      ],
      "execution_count": 0,
      "outputs": []
    },
    {
      "metadata": {
        "id": "59w3ZNMUlFSi",
        "colab_type": "code",
        "colab": {}
      },
      "cell_type": "code",
      "source": [
        ""
      ],
      "execution_count": 0,
      "outputs": []
    }
  ]
}
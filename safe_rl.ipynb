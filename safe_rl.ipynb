{
 "cells": [
  {
   "cell_type": "markdown",
   "metadata": {
    "colab_type": "text",
    "id": "view-in-github"
   },
   "source": [
    "<a href=\"https://colab.research.google.com/github/mathildebadoual/safe_rl/blob/master/safe_rl.ipynb\" target=\"_parent\"><img src=\"https://colab.research.google.com/assets/colab-badge.svg\" alt=\"Open In Colab\"/></a>"
   ]
  },
  {
   "cell_type": "code",
   "execution_count": 2,
   "metadata": {
    "colab": {
     "base_uri": "https://localhost:8080/",
     "height": 34
    },
    "colab_type": "code",
    "id": "mi6g8x-rfLTi",
    "outputId": "3ac11024-019e-4114-a577-b44d4ee63b85"
   },
   "outputs": [],
   "source": [
    "import tensorflow as tf\n",
    "# device_name = tf.test.gpu_device_name()\n",
    "# if device_name != '/device:GPU:0':\n",
    "#   raise SystemError('GPU device not found')\n",
    "# print('Found GPU at: {}'.format(device_name))"
   ]
  },
  {
   "cell_type": "markdown",
   "metadata": {
    "colab_type": "text",
    "id": "TQkVYO7Cf30Q"
   },
   "source": [
    "### Install Baseline module:"
   ]
  },
  {
   "cell_type": "code",
   "execution_count": 3,
   "metadata": {
    "colab": {},
    "colab_type": "code",
    "id": "YxogFMilf6hG",
    "scrolled": true
   },
   "outputs": [
    {
     "name": "stdout",
     "output_type": "stream",
     "text": [
      "Unable to locate an executable at \"/Library/Java/JavaVirtualMachines/jdk1.8.0_151.jdk/Contents/Home/bin/apt\" (-1)\n",
      "Requirement already satisfied: stable-baselines==2.3.0 in /Users/mathildebadoual/miniconda3/lib/python3.6/site-packages (2.3.0)\n",
      "Requirement already satisfied: box2d in /Users/mathildebadoual/miniconda3/lib/python3.6/site-packages (2.3.2)\n",
      "Requirement already satisfied: box2d-kengz in /Users/mathildebadoual/miniconda3/lib/python3.6/site-packages (2.3.3)\n",
      "Requirement already satisfied: tqdm in /Users/mathildebadoual/.local/lib/python3.6/site-packages (from stable-baselines==2.3.0) (4.23.4)\n",
      "Requirement already satisfied: numpy in /Users/mathildebadoual/miniconda3/lib/python3.6/site-packages (from stable-baselines==2.3.0) (1.15.0)\n",
      "Requirement already satisfied: mpi4py in /Users/mathildebadoual/miniconda3/lib/python3.6/site-packages (from stable-baselines==2.3.0) (3.0.0)\n",
      "Requirement already satisfied: cloudpickle>=0.5.5 in /Users/mathildebadoual/miniconda3/lib/python3.6/site-packages (from stable-baselines==2.3.0) (0.6.1)\n",
      "Requirement already satisfied: dill in /Users/mathildebadoual/miniconda3/lib/python3.6/site-packages (from stable-baselines==2.3.0) (0.2.7.1)\n",
      "Requirement already satisfied: gym[atari,classic_control]>=0.10.9 in /Users/mathildebadoual/miniconda3/lib/python3.6/site-packages (from stable-baselines==2.3.0) (0.10.11)\n",
      "Requirement already satisfied: pandas in /Users/mathildebadoual/miniconda3/lib/python3.6/site-packages (from stable-baselines==2.3.0) (0.23.4)\n",
      "Requirement already satisfied: zmq in /Users/mathildebadoual/miniconda3/lib/python3.6/site-packages (from stable-baselines==2.3.0) (0.0.0)\n",
      "Requirement already satisfied: click in /Users/mathildebadoual/miniconda3/lib/python3.6/site-packages (from stable-baselines==2.3.0) (6.7)\n",
      "Requirement already satisfied: joblib in /Users/mathildebadoual/miniconda3/lib/python3.6/site-packages (from stable-baselines==2.3.0) (0.11)\n",
      "Requirement already satisfied: tensorflow>=1.5.0 in /Users/mathildebadoual/miniconda3/lib/python3.6/site-packages (from stable-baselines==2.3.0) (1.11.0)\n",
      "Requirement already satisfied: opencv-python in /Users/mathildebadoual/miniconda3/lib/python3.6/site-packages (from stable-baselines==2.3.0) (3.4.0.12)\n",
      "Requirement already satisfied: matplotlib in /Users/mathildebadoual/miniconda3/lib/python3.6/site-packages (from stable-baselines==2.3.0) (2.1.2)\n",
      "Requirement already satisfied: seaborn in /Users/mathildebadoual/miniconda3/lib/python3.6/site-packages (from stable-baselines==2.3.0) (0.9.0)\n",
      "Requirement already satisfied: scipy in /Users/mathildebadoual/miniconda3/lib/python3.6/site-packages (from stable-baselines==2.3.0) (1.2.0)\n",
      "Requirement already satisfied: glob2 in /Users/mathildebadoual/miniconda3/lib/python3.6/site-packages (from stable-baselines==2.3.0) (0.6)\n",
      "Requirement already satisfied: progressbar2 in /Users/mathildebadoual/miniconda3/lib/python3.6/site-packages (from stable-baselines==2.3.0) (3.38.0)\n",
      "Requirement already satisfied: requests>=2.0 in /Users/mathildebadoual/miniconda3/lib/python3.6/site-packages (from gym[atari,classic_control]>=0.10.9->stable-baselines==2.3.0) (2.19.1)\n",
      "Requirement already satisfied: six in /Users/mathildebadoual/.local/lib/python3.6/site-packages (from gym[atari,classic_control]>=0.10.9->stable-baselines==2.3.0) (1.11.0)\n",
      "Requirement already satisfied: pyglet>=1.2.0 in /Users/mathildebadoual/miniconda3/lib/python3.6/site-packages (from gym[atari,classic_control]>=0.10.9->stable-baselines==2.3.0) (1.3.0)\n",
      "Requirement already satisfied: PyOpenGL; extra == \"atari\" in /Users/mathildebadoual/miniconda3/lib/python3.6/site-packages (from gym[atari,classic_control]>=0.10.9->stable-baselines==2.3.0) (3.1.0)\n",
      "Requirement already satisfied: Pillow; extra == \"atari\" in /Users/mathildebadoual/miniconda3/lib/python3.6/site-packages (from gym[atari,classic_control]>=0.10.9->stable-baselines==2.3.0) (5.2.0)\n",
      "Requirement already satisfied: atari-py>=0.1.4; extra == \"atari\" in /Users/mathildebadoual/miniconda3/lib/python3.6/site-packages (from gym[atari,classic_control]>=0.10.9->stable-baselines==2.3.0) (0.1.7)\n",
      "Requirement already satisfied: pytz>=2011k in /Users/mathildebadoual/miniconda3/lib/python3.6/site-packages (from pandas->stable-baselines==2.3.0) (2017.3)\n",
      "Requirement already satisfied: python-dateutil>=2.5.0 in /Users/mathildebadoual/miniconda3/lib/python3.6/site-packages (from pandas->stable-baselines==2.3.0) (2.7.3)\n",
      "Requirement already satisfied: pyzmq in /Users/mathildebadoual/miniconda3/lib/python3.6/site-packages (from zmq->stable-baselines==2.3.0) (17.0.0)\n",
      "Requirement already satisfied: protobuf>=3.6.0 in /Users/mathildebadoual/miniconda3/lib/python3.6/site-packages (from tensorflow>=1.5.0->stable-baselines==2.3.0) (3.6.1)\n",
      "Requirement already satisfied: absl-py>=0.1.6 in /Users/mathildebadoual/miniconda3/lib/python3.6/site-packages (from tensorflow>=1.5.0->stable-baselines==2.3.0) (0.5.0)\n",
      "Requirement already satisfied: termcolor>=1.1.0 in /Users/mathildebadoual/miniconda3/lib/python3.6/site-packages (from tensorflow>=1.5.0->stable-baselines==2.3.0) (1.1.0)\n",
      "Requirement already satisfied: gast>=0.2.0 in /Users/mathildebadoual/miniconda3/lib/python3.6/site-packages (from tensorflow>=1.5.0->stable-baselines==2.3.0) (0.2.0)\n",
      "Requirement already satisfied: keras-applications>=1.0.5 in /Users/mathildebadoual/miniconda3/lib/python3.6/site-packages (from tensorflow>=1.5.0->stable-baselines==2.3.0) (1.0.6)\n",
      "Requirement already satisfied: wheel>=0.26 in /Users/mathildebadoual/.local/lib/python3.6/site-packages (from tensorflow>=1.5.0->stable-baselines==2.3.0) (0.32.3)\n",
      "Requirement already satisfied: setuptools<=39.1.0 in /Users/mathildebadoual/miniconda3/lib/python3.6/site-packages (from tensorflow>=1.5.0->stable-baselines==2.3.0) (39.1.0)\n",
      "Requirement already satisfied: tensorboard<1.12.0,>=1.11.0 in /Users/mathildebadoual/miniconda3/lib/python3.6/site-packages (from tensorflow>=1.5.0->stable-baselines==2.3.0) (1.11.0)\n",
      "Requirement already satisfied: grpcio>=1.8.6 in /Users/mathildebadoual/miniconda3/lib/python3.6/site-packages (from tensorflow>=1.5.0->stable-baselines==2.3.0) (1.15.0)\n",
      "Requirement already satisfied: astor>=0.6.0 in /Users/mathildebadoual/miniconda3/lib/python3.6/site-packages (from tensorflow>=1.5.0->stable-baselines==2.3.0) (0.7.1)\n",
      "Requirement already satisfied: keras-preprocessing>=1.0.3 in /Users/mathildebadoual/miniconda3/lib/python3.6/site-packages (from tensorflow>=1.5.0->stable-baselines==2.3.0) (1.0.5)\n",
      "Requirement already satisfied: cycler>=0.10 in /Users/mathildebadoual/miniconda3/lib/python3.6/site-packages/cycler-0.10.0-py3.6.egg (from matplotlib->stable-baselines==2.3.0) (0.10.0)\n",
      "Requirement already satisfied: pyparsing!=2.0.4,!=2.1.2,!=2.1.6,>=2.0.1 in /Users/mathildebadoual/miniconda3/lib/python3.6/site-packages (from matplotlib->stable-baselines==2.3.0) (2.2.0)\n",
      "Requirement already satisfied: python-utils>=2.3.0 in /Users/mathildebadoual/miniconda3/lib/python3.6/site-packages (from progressbar2->stable-baselines==2.3.0) (2.3.0)\n",
      "Requirement already satisfied: chardet<3.1.0,>=3.0.2 in /Users/mathildebadoual/miniconda3/lib/python3.6/site-packages (from requests>=2.0->gym[atari,classic_control]>=0.10.9->stable-baselines==2.3.0) (3.0.4)\n",
      "Requirement already satisfied: idna<2.8,>=2.5 in /Users/mathildebadoual/miniconda3/lib/python3.6/site-packages (from requests>=2.0->gym[atari,classic_control]>=0.10.9->stable-baselines==2.3.0) (2.6)\n",
      "Requirement already satisfied: urllib3<1.24,>=1.21.1 in /Users/mathildebadoual/miniconda3/lib/python3.6/site-packages (from requests>=2.0->gym[atari,classic_control]>=0.10.9->stable-baselines==2.3.0) (1.22)\n",
      "Requirement already satisfied: certifi>=2017.4.17 in /Users/mathildebadoual/miniconda3/lib/python3.6/site-packages (from requests>=2.0->gym[atari,classic_control]>=0.10.9->stable-baselines==2.3.0) (2017.11.5)\n",
      "Requirement already satisfied: future in /Users/mathildebadoual/miniconda3/lib/python3.6/site-packages (from pyglet>=1.2.0->gym[atari,classic_control]>=0.10.9->stable-baselines==2.3.0) (0.16.0)\n",
      "Requirement already satisfied: h5py in /Users/mathildebadoual/miniconda3/lib/python3.6/site-packages (from keras-applications>=1.0.5->tensorflow>=1.5.0->stable-baselines==2.3.0) (2.7.1)\n",
      "Requirement already satisfied: werkzeug>=0.11.10 in /Users/mathildebadoual/miniconda3/lib/python3.6/site-packages (from tensorboard<1.12.0,>=1.11.0->tensorflow>=1.5.0->stable-baselines==2.3.0) (0.14.1)\n",
      "Requirement already satisfied: markdown>=2.6.8 in /Users/mathildebadoual/miniconda3/lib/python3.6/site-packages (from tensorboard<1.12.0,>=1.11.0->tensorflow>=1.5.0->stable-baselines==2.3.0) (3.0.1)\n"
     ]
    },
    {
     "name": "stdout",
     "output_type": "stream",
     "text": [
      "\u001b[33mYou are using pip version 19.0.1, however version 19.0.2 is available.\r\n",
      "You should consider upgrading via the 'pip install --upgrade pip' command.\u001b[0m\r\n"
     ]
    }
   ],
   "source": [
    "!apt install swig cmake libopenmpi-dev zlib1g-dev\n",
    "!pip install stable-baselines==2.3.0 box2d box2d-kengz"
   ]
  },
  {
   "cell_type": "code",
   "execution_count": 4,
   "metadata": {
    "colab": {},
    "colab_type": "code",
    "id": "kkqF-MV5iE2I",
    "scrolled": true
   },
   "outputs": [
    {
     "name": "stdout",
     "output_type": "stream",
     "text": [
      "Collecting control\n",
      "\u001b[?25l  Downloading https://files.pythonhosted.org/packages/69/ba/48b348c827d04dde6734ef2a04e704a3b4124a749cbdeec578fef80cedcd/control-0.8.1.tar.gz (168kB)\n",
      "\u001b[K    100% |████████████████████████████████| 174kB 3.6MB/s ta 0:00:01\n",
      "\u001b[?25hRequirement already satisfied: numpy in /Users/mathildebadoual/miniconda3/lib/python3.6/site-packages (from control) (1.15.0)\n",
      "Requirement already satisfied: scipy in /Users/mathildebadoual/miniconda3/lib/python3.6/site-packages (from control) (1.2.0)\n",
      "Requirement already satisfied: matplotlib in /Users/mathildebadoual/miniconda3/lib/python3.6/site-packages (from control) (2.1.2)\n",
      "Requirement already satisfied: six>=1.10 in /Users/mathildebadoual/.local/lib/python3.6/site-packages (from matplotlib->control) (1.11.0)\n",
      "Requirement already satisfied: python-dateutil>=2.1 in /Users/mathildebadoual/miniconda3/lib/python3.6/site-packages (from matplotlib->control) (2.7.3)\n",
      "Requirement already satisfied: pytz in /Users/mathildebadoual/miniconda3/lib/python3.6/site-packages (from matplotlib->control) (2017.3)\n",
      "Requirement already satisfied: cycler>=0.10 in /Users/mathildebadoual/miniconda3/lib/python3.6/site-packages/cycler-0.10.0-py3.6.egg (from matplotlib->control) (0.10.0)\n",
      "Requirement already satisfied: pyparsing!=2.0.4,!=2.1.2,!=2.1.6,>=2.0.1 in /Users/mathildebadoual/miniconda3/lib/python3.6/site-packages (from matplotlib->control) (2.2.0)\n",
      "Building wheels for collected packages: control\n",
      "  Building wheel for control (setup.py) ... \u001b[?25ldone\n",
      "\u001b[?25h  Stored in directory: /Users/mathildebadoual/Library/Caches/pip/wheels/3b/7c/86/27549bba9cedd735b87e2ff3de06ed1d839f0fde0db3885ecb\n",
      "Successfully built control\n",
      "Installing collected packages: control\n",
      "Successfully installed control-0.8.1\n",
      "\u001b[33mYou are using pip version 19.0.1, however version 19.0.2 is available.\n",
      "You should consider upgrading via the 'pip install --upgrade pip' command.\u001b[0m\n",
      "Collecting slycot\n",
      "\u001b[?25l  Downloading https://files.pythonhosted.org/packages/25/57/c0639dab4fa200a3acb4697f49e39c99daa8816ff88948a0be9f6b110922/slycot-0.3.3.tar.gz (1.5MB)\n",
      "\u001b[K    100% |████████████████████████████████| 1.5MB 3.7MB/s ta 0:00:01\n",
      "\u001b[?25hBuilding wheels for collected packages: slycot\n",
      "  Building wheel for slycot (setup.py) ... \u001b[?25ldone\n",
      "\u001b[?25h  Stored in directory: /Users/mathildebadoual/Library/Caches/pip/wheels/96/d8/c4/494b13b8ec4d4829abc44533fe43af4812c6f44737ce084210\n",
      "Successfully built slycot\n",
      "Installing collected packages: slycot\n",
      "Successfully installed slycot-0.3.3\n",
      "\u001b[33mYou are using pip version 19.0.1, however version 19.0.2 is available.\n",
      "You should consider upgrading via the 'pip install --upgrade pip' command.\u001b[0m\n"
     ]
    }
   ],
   "source": [
    "!pip install control\n",
    "!pip install slycot"
   ]
  },
  {
   "cell_type": "markdown",
   "metadata": {
    "colab_type": "text",
    "id": "3-GXMtpChoXP"
   },
   "source": [
    "### Import gym and other dependencies"
   ]
  },
  {
   "cell_type": "code",
   "execution_count": 1,
   "metadata": {
    "colab": {},
    "colab_type": "code",
    "id": "RDPmtEVqhnn5"
   },
   "outputs": [
    {
     "name": "stderr",
     "output_type": "stream",
     "text": [
      "/Users/mathildebadoual/miniconda3/lib/python3.6/site-packages/h5py/__init__.py:36: FutureWarning: Conversion of the second argument of issubdtype from `float` to `np.floating` is deprecated. In future, it will be treated as `np.float64 == np.dtype(float).type`.\n",
      "  from ._conv import register_converters as _register_converters\n",
      "/Users/mathildebadoual/miniconda3/lib/python3.6/importlib/_bootstrap.py:219: RuntimeWarning: numpy.dtype size changed, may indicate binary incompatibility. Expected 96, got 88\n",
      "  return f(*args, **kwds)\n"
     ]
    }
   ],
   "source": [
    "import os\n",
    "\n",
    "import gym\n",
    "import numpy as np\n",
    "import matplotlib.pyplot as plt\n",
    "import control\n",
    "import math\n",
    "\n",
    "from stable_baselines.ddpg.policies import MlpPolicy\n",
    "from stable_baselines.common.vec_env.dummy_vec_env import DummyVecEnv\n",
    "from stable_baselines.bench import Monitor\n",
    "from stable_baselines.results_plotter import load_results, ts2xy\n",
    "from stable_baselines import DDPG\n",
    "from stable_baselines.ddpg.noise import AdaptiveParamNoiseSpec"
   ]
  },
  {
   "cell_type": "code",
   "execution_count": 2,
   "metadata": {
    "colab": {},
    "colab_type": "code",
    "id": "I_Oq4lyuiFya"
   },
   "outputs": [],
   "source": [
    "# Create log dir\n",
    "log_dir = \"/tmp/gym/\"\n",
    "os.makedirs(log_dir, exist_ok=True)\n",
    "\n",
    "# Create and wrap the environment\n",
    "env = gym.make('CartPole-v0')\n",
    "# Logs will be saved in log_dir/monitor.csv\n",
    "env = Monitor(env, log_dir, allow_early_resets=True)\n",
    "env = DummyVecEnv([lambda: env])"
   ]
  },
  {
   "cell_type": "code",
   "execution_count": 4,
   "metadata": {
    "colab": {},
    "colab_type": "code",
    "id": "RcUL6byNKJqx"
   },
   "outputs": [],
   "source": [
    "self.gravity = 9.8\n",
    "masscart = 1.0\n",
    "masspole = 0.1\n",
    "total_mass = (self.masspole + self.masscart)\n",
    "length = 0.5 # actually half the pole's length\n",
    "polemass_length = (self.masspole * self.length)\n",
    "force_mag = 10.0\n",
    "tau = 0.02  # seconds between state updates\n",
    "\n",
    "\n",
    "A = np.array([[0, 1], [3*g/(2*g), 0]])\n",
    "B = np.array([[0], [3/(2*m*l)]])\n",
    "Q = np.eye(2)\n",
    "R = 0.1\n",
    "\n",
    "K, _, _ = control.lqr(A, B, Q, R)"
   ]
  },
  {
   "cell_type": "code",
   "execution_count": 5,
   "metadata": {
    "colab": {},
    "colab_type": "code",
    "id": "LsvWooOjlFmK"
   },
   "outputs": [
    {
     "name": "stdout",
     "output_type": "stream",
     "text": [
      "observation space: Box(3,)\n",
      "action space: Box(1,)\n",
      "initial observation: [ 0.87683592  0.48078974 -0.37643238]\n"
     ]
    }
   ],
   "source": [
    "env = gym.make('CartPole-v0')\n",
    "print('observation space:', env.observation_space)\n",
    "print('action space:', env.action_space)\n",
    "\n",
    "max_steps = 100\n",
    "\n",
    "obs = env.reset()\n",
    "print('initial observation:', obs)\n",
    "theta_list = []\n",
    "thetadot_list = []\n",
    "action_list = [0]\n",
    "env.render()\n",
    "\n",
    "for i in xrange(max_steps):\n",
    "    state = np.array([math.atan2(obs[0], obs[1]), obs[2]])\n",
    "    theta_list.append(state[0])\n",
    "    thetadot_list.append(state[1])\n",
    "    action = np.dot(K, state.reshape((2, 1)))\n",
    "    action_list.append(action)\n",
    "    obs, r, done, info = env.step(action)\n",
    "    env.render()\n",
    "    if done:\n",
    "        break\n",
    "env.close()"
   ]
  },
  {
   "cell_type": "code",
   "execution_count": 6,
   "metadata": {
    "colab": {},
    "colab_type": "code",
    "id": "59w3ZNMUlFSi"
   },
   "outputs": [
    {
     "data": {
      "text/plain": [
       "<matplotlib.legend.Legend at 0x145838208>"
      ]
     },
     "execution_count": 6,
     "metadata": {},
     "output_type": "execute_result"
    },
    {
     "data": {
      "image/png": "[encoded data removed]",
      "text/plain": [
       "<matplotlib.figure.Figure at 0x130954828>"
      ]
     },
     "metadata": {},
     "output_type": "display_data"
    }
   ],
   "source": [
    "plt.figure(figsize=(10, 7))\n",
    "\n",
    "plt.plot(theta_list, label='theta')\n",
    "plt.plot(thetadot_list, label='theta dot')\n",
    "plt.plot(action_list, label='action')\n",
    "plt.grid()\n",
    "plt.legend()"
   ]
  },
  {
   "cell_type": "code",
   "execution_count": null,
   "metadata": {},
   "outputs": [],
   "source": []
  }
 ],
 "metadata": {
  "accelerator": "GPU",
  "colab": {
   "include_colab_link": true,
   "name": "safe_rl.ipynb",
   "provenance": [],
   "version": "0.3.2"
  },
  "kernelspec": {
   "display_name": "Python 3",
   "language": "python",
   "name": "python3"
  },
  "language_info": {
   "codemirror_mode": {
    "name": "ipython",
    "version": 3
   },
   "file_extension": ".py",
   "mimetype": "text/x-python",
   "name": "python",
   "nbconvert_exporter": "python",
   "pygments_lexer": "ipython3",
   "version": "3.6.3"
  }
 },
 "nbformat": 4,
 "nbformat_minor": 1
}
